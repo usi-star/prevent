{
 "cells": [
  {
   "cell_type": "code",
   "execution_count": 13,
   "metadata": {
    "collapsed": true
   },
   "outputs": [],
   "source": [
    "import plotly.graph_objects as go\n",
    "import csv\n",
    "import yaml as yaml\n",
    "\n",
    "def get_fault_name_by_exp_code(experiment_code):\n",
    "    fault_names = [\"MemL-Exp\", \"MemL-Lin\", \"MemL-Rnd\", \"PacL-Lin\", \"PacL-Exp\", \"PacL-Exp\", \"PacL-Rnd\", \"CpuH-Exp\",\n",
    "                   \"CpuH-Lin\", \"CpuH-Rnd\"]\n",
    "    return fault_names[experiment_code - 1]\n",
    "\n",
    "configuration = yaml.load(open(\"resources/configuration/configuration.yml\"), Loader=yaml.FullLoader)\n",
    "data_sets_configuration = yaml.load(open(\"resources/configuration/data_sets.yml\"), Loader=yaml.FullLoader)\n",
    "\n",
    "file_path_classifications = \"resources/data/{project_folder}/{project_name}-predictions-ma-2-outof-3/e{exp_code}.csv\"\n",
    "consolidated_file_path_pattern = \"resources/data/{project_folder}/{project_name}-consolidated-ma-2-outof-3/{project_name}-classifications-e-{fault_id}.csv\"\n",
    "\n",
    "experiments = [{\"project\": \"preface\", \"folder\": \"13-preface-data\",\n",
    "                \"exp_codes\": [2, 1, 3, 4, 5, 7, 9, 8, 10],\n",
    "                \"fault_inj_minutes\": [],\n",
    "                \"failure_minutes\": []},\n",
    "               {\"project\": \"embed\", \"folder\": \"14-embed-data\",\n",
    "                \"exp_codes\": [2, 1, 3, 4, 5, 7, 9, 8, 10],\n",
    "                \"fault_inj_minutes\": [],\n",
    "                \"failure_minutes\": []},\n",
    "               {\"project\": \"premise\", \"folder\": \"15-premise-data\",\n",
    "                \"exp_codes\": [2, 1, 3, 4, 5, 7, 9, 8, 10],\n",
    "                \"fault_inj_minutes\": [],\n",
    "                \"failure_minutes\": []},\n",
    "               {\"project\": \"loud\", \"folder\": \"16-loud-data\",\n",
    "                \"exp_codes\": [2, 1, 3, 4, 5, 7, 9, 8, 10],\n",
    "                \"fault_inj_minutes\": [],\n",
    "                \"failure_minutes\": []}]\n",
    "\n",
    "for project in experiments:\n",
    "    for exp_code in project[\"exp_codes\"]:\n",
    "        exp_code_yaml = \"e\" + str(exp_code)\n",
    "        injection_minute = data_sets_configuration['data_sets'][exp_code_yaml][\"Injection_minute\"]\n",
    "        failure_minute = data_sets_configuration['data_sets'][exp_code_yaml][\"Failure_minute\"]\n",
    "        project[\"fault_inj_minutes\"].append(injection_minute)\n",
    "        project[\"failure_minutes\"].append(failure_minute)\n",
    "\n",
    "colors_by_project = [\"rgb(135,206,250)\", \"rgb(255,189,85)\", \"rgb(160,160,160)\"]\n",
    "\n",
    "#   Predictions types\n",
    "#   Type\tPeriod\tClassification\tLocalisation\tLine-width Comment\n",
    "#   0\t    0\t    0\t            any\t            0\n",
    "#   1\t    0\t    1\t            any\t            4           sq-dot\n",
    "#   2\t    1\t    0\t            any\t            0\n",
    "#   3\t    1\t    1\t            0\t            4           sq-dot\n",
    "#   4\t    1\t    1\t            1\t            16\n",
    "#   5\t    1\t    1\t            2\t            44\n",
    "#   6\t    2\t    0\t            any\t            0.5         line\n",
    "#   7\t    2\t    1\t            0\t            4           sq-dot\n",
    "#   8\t    2\t    1\t            1\t            16\n",
    "#   9\t    2\t    1\t            2\t            44\n",
    "\n",
    "prediction_types = [0, 1, 2, 3, 4, 5, 6, 7, 8, 9]\n",
    "dash_sizes_by_prediction_type = [0.001, 4, 0.001, 4, 16, 44, 0.5, 4, 16, 44]\n",
    "periods_before_injection = [51, 51, 51, 16, 16, 16, 19, 19, 19]\n",
    "\n",
    "projects_set_to_draw = [0, 1, 2]\n",
    "\n",
    "experiments_set_to_draw = [1, 2, 3]\n",
    "# experiments_set_to_draw = [4, 5, 7]\n",
    "# experiments_set_to_draw = [8, 9, 10]\n",
    "\n",
    "# Graph visualisation settings\n",
    "marker_line_width = 3\n",
    "inter_groups_margin = 3\n",
    "inter_bars_margin = 3\n",
    "x_shift = 9\n",
    "graph_width = 3000\n",
    "graph_height = 1000\n",
    "group_size = inter_groups_margin + len(projects_set_to_draw) * inter_bars_margin"
   ]
  },
  {
   "cell_type": "code",
   "execution_count": 14,
   "outputs": [
    {
     "data": {
      "application/vnd.plotly.v1+json": {
       "config": {
        "plotlyServerURL": "https://plot.ly"
       },
       "data": [
        {
         "marker": {
          "color": "rgb(135,206,250)",
          "line": {
           "color": "rgb(135,206,250)",
           "width": 3
          },
          "size": 0.001,
          "symbol": "line-ew"
         },
         "mode": "markers",
         "name": "preface : E-2",
         "type": "scatter",
         "x": [
          3,
          3,
          3,
          3,
          3,
          3,
          3,
          3,
          3,
          3,
          3,
          3,
          3,
          3,
          3,
          3,
          3,
          3,
          3,
          3,
          3,
          3,
          3,
          3,
          3,
          3,
          3,
          3,
          3,
          3,
          3,
          3,
          3,
          3,
          3,
          3,
          3,
          3,
          3,
          3,
          3,
          3,
          3,
          3,
          3,
          3,
          3,
          3,
          3,
          3,
          3
         ],
         "y": [
          238,
          237,
          236,
          235,
          234,
          233,
          232,
          231,
          230,
          229,
          228,
          227,
          226,
          225,
          224,
          223,
          222,
          221,
          220,
          219,
          218,
          217,
          216,
          215,
          214,
          213,
          212,
          211,
          210,
          209,
          208,
          207,
          206,
          205,
          204,
          203,
          202,
          201,
          200,
          199,
          198,
          197,
          196,
          195,
          194,
          193,
          192,
          191,
          190,
          189,
          188
         ]
        },
        {
         "marker": {
          "color": "rgb(135,206,250)",
          "line": {
           "color": "rgb(135,206,250)",
           "width": 3
          },
          "size": 4,
          "symbol": "line-ew"
         },
         "mode": "markers",
         "name": "preface : E-2",
         "type": "scatter",
         "x": [],
         "y": []
        },
        {
         "marker": {
          "color": "rgb(135,206,250)",
          "line": {
           "color": "rgb(135,206,250)",
           "width": 3
          },
          "size": 0.001,
          "symbol": "line-ew"
         },
         "mode": "markers",
         "name": "preface : E-2",
         "type": "scatter",
         "x": [
          3,
          3,
          3,
          3,
          3,
          3,
          3,
          3,
          3,
          3,
          3,
          3,
          3,
          3,
          3,
          3,
          3,
          3,
          3,
          3,
          3,
          3,
          3,
          3,
          3,
          3,
          3,
          3,
          3,
          3,
          3,
          3,
          3,
          3,
          3,
          3,
          3
         ],
         "y": [
          187,
          186,
          185,
          184,
          183,
          182,
          181,
          180,
          179,
          178,
          177,
          176,
          175,
          174,
          173,
          172,
          171,
          170,
          169,
          168,
          167,
          166,
          165,
          164,
          163,
          162,
          161,
          160,
          159,
          158,
          157,
          156,
          155,
          154,
          153,
          152,
          151
         ]
        },
        {
         "marker": {
          "color": "rgb(135,206,250)",
          "line": {
           "color": "rgb(135,206,250)",
           "width": 3
          },
          "size": 4,
          "symbol": "line-ew"
         },
         "mode": "markers",
         "name": "preface : E-2",
         "type": "scatter",
         "x": [],
         "y": []
        },
        {
         "marker": {
          "color": "rgb(135,206,250)",
          "line": {
           "color": "rgb(135,206,250)",
           "width": 3
          },
          "size": 16,
          "symbol": "line-ew"
         },
         "mode": "markers",
         "name": "preface : E-2",
         "type": "scatter",
         "x": [],
         "y": []
        },
        {
         "marker": {
          "color": "rgb(135,206,250)",
          "line": {
           "color": "rgb(135,206,250)",
           "width": 3
          },
          "size": 44,
          "symbol": "line-ew"
         },
         "mode": "markers",
         "name": "preface : E-2",
         "type": "scatter",
         "x": [],
         "y": []
        },
        {
         "marker": {
          "color": "rgb(135,206,250)",
          "line": {
           "color": "rgb(135,206,250)",
           "width": 3
          },
          "size": 0.5,
          "symbol": "line-ew"
         },
         "mode": "markers",
         "name": "preface : E-2",
         "type": "scatter",
         "x": [
          3,
          3,
          3,
          3,
          3,
          3,
          3,
          3,
          3,
          3,
          3,
          3,
          3,
          3,
          3,
          3,
          3,
          3,
          3,
          3,
          3,
          3,
          3,
          3,
          3,
          3,
          3,
          3,
          3,
          3,
          3,
          3,
          3,
          3,
          3,
          3,
          3,
          3,
          3,
          3,
          3,
          3,
          3,
          3,
          3,
          3,
          3,
          3,
          3,
          3,
          3,
          3,
          3,
          3,
          3,
          3
         ],
         "y": [
          59,
          58,
          57,
          56,
          55,
          54,
          53,
          52,
          51,
          50,
          49,
          48,
          47,
          46,
          45,
          41,
          40,
          39,
          38,
          37,
          36,
          35,
          34,
          33,
          32,
          31,
          30,
          29,
          28,
          27,
          26,
          25,
          24,
          23,
          22,
          21,
          20,
          19,
          18,
          17,
          16,
          15,
          14,
          13,
          12,
          11,
          10,
          9,
          8,
          7,
          6,
          5,
          4,
          3,
          2,
          1
         ]
        },
        {
         "marker": {
          "color": "rgb(135,206,250)",
          "line": {
           "color": "rgb(135,206,250)",
           "width": 3
          },
          "size": 4,
          "symbol": "line-ew"
         },
         "mode": "markers",
         "name": "preface : E-2",
         "type": "scatter",
         "x": [
          3,
          3,
          3,
          3,
          3,
          3,
          3,
          3,
          3,
          3,
          3,
          3,
          3,
          3,
          3,
          3,
          3,
          3,
          3,
          3,
          3,
          3
         ],
         "y": [
          143,
          142,
          140,
          139,
          138,
          137,
          136,
          134,
          113,
          78,
          77,
          76,
          75,
          74,
          73,
          72,
          62,
          61,
          60,
          44,
          43,
          42
         ]
        },
        {
         "marker": {
          "color": "rgb(135,206,250)",
          "line": {
           "color": "rgb(135,206,250)",
           "width": 3
          },
          "size": 16,
          "symbol": "line-ew"
         },
         "mode": "markers",
         "name": "preface : E-2",
         "type": "scatter",
         "x": [
          3,
          3,
          3,
          3,
          3,
          3,
          3,
          3,
          3,
          3,
          3,
          3,
          3,
          3,
          3,
          3,
          3,
          3,
          3,
          3,
          3,
          3,
          3,
          3,
          3,
          3,
          3,
          3,
          3,
          3,
          3,
          3,
          3,
          3,
          3,
          3,
          3,
          3,
          3,
          3,
          3,
          3,
          3,
          3,
          3,
          3,
          3,
          3,
          3,
          3,
          3,
          3,
          3,
          3,
          3,
          3,
          3,
          3,
          3,
          3,
          3,
          3,
          3,
          3,
          3,
          3,
          3,
          3,
          3,
          3,
          3,
          3
         ],
         "y": [
          150,
          149,
          148,
          147,
          146,
          145,
          144,
          141,
          135,
          133,
          132,
          131,
          130,
          129,
          128,
          127,
          126,
          125,
          124,
          123,
          122,
          121,
          120,
          119,
          118,
          117,
          116,
          115,
          114,
          112,
          111,
          110,
          109,
          108,
          107,
          106,
          105,
          104,
          103,
          102,
          101,
          100,
          99,
          98,
          97,
          96,
          95,
          94,
          93,
          92,
          91,
          90,
          89,
          88,
          87,
          86,
          85,
          84,
          83,
          82,
          81,
          80,
          79,
          71,
          70,
          69,
          68,
          67,
          66,
          65,
          64,
          63
         ]
        },
        {
         "marker": {
          "color": "rgb(135,206,250)",
          "line": {
           "color": "rgb(135,206,250)",
           "width": 3
          },
          "size": 44,
          "symbol": "line-ew"
         },
         "mode": "markers",
         "name": "preface : E-2",
         "type": "scatter",
         "x": [],
         "y": []
        },
        {
         "marker": {
          "color": "black",
          "line": {
           "color": "black",
           "width": 3
          },
          "size": 0.001,
          "symbol": "line-ew"
         },
         "mode": "markers",
         "name": "preface : E-2",
         "type": "scatter",
         "x": [
          108
         ],
         "y": [
          0
         ]
        },
        {
         "marker": {
          "color": "red",
          "line": {
           "color": "red"
          },
          "symbol": "circle"
         },
         "mode": "markers",
         "name": "preface : E-2",
         "type": "scatter",
         "x": [
          3
         ],
         "y": [
          187
         ]
        },
        {
         "marker": {
          "color": "black",
          "line": {
           "color": "black"
          },
          "symbol": "circle"
         },
         "mode": "markers",
         "name": "preface : E-2",
         "type": "scatter",
         "x": [
          3
         ],
         "y": [
          239
         ]
        },
        {
         "marker": {
          "color": "rgb(135,206,250)",
          "line": {
           "color": "rgb(135,206,250)",
           "width": 3
          },
          "size": 0.001,
          "symbol": "line-ew"
         },
         "mode": "markers",
         "name": "preface : E-1",
         "type": "scatter",
         "x": [
          15,
          15,
          15,
          15,
          15,
          15,
          15,
          15,
          15,
          15,
          15,
          15,
          15,
          15,
          15,
          15,
          15,
          15,
          15,
          15,
          15,
          15,
          15,
          15,
          15,
          15,
          15,
          15,
          15,
          15,
          15
         ],
         "y": [
          65,
          64,
          63,
          62,
          61,
          60,
          59,
          58,
          57,
          56,
          55,
          54,
          53,
          52,
          51,
          50,
          49,
          48,
          47,
          46,
          45,
          44,
          43,
          42,
          41,
          40,
          39,
          38,
          37,
          36,
          35
         ]
        },
        {
         "marker": {
          "color": "rgb(135,206,250)",
          "line": {
           "color": "rgb(135,206,250)",
           "width": 3
          },
          "size": 4,
          "symbol": "line-ew"
         },
         "mode": "markers",
         "name": "preface : E-1",
         "type": "scatter",
         "x": [
          15,
          15,
          15,
          15,
          15,
          15,
          15,
          15,
          15,
          15,
          15,
          15,
          15,
          15,
          15,
          15,
          15,
          15,
          15,
          15
         ],
         "y": [
          85,
          84,
          83,
          82,
          81,
          80,
          79,
          78,
          77,
          76,
          75,
          74,
          73,
          72,
          71,
          70,
          69,
          68,
          67,
          66
         ]
        },
        {
         "marker": {
          "color": "rgb(135,206,250)",
          "line": {
           "color": "rgb(135,206,250)",
           "width": 3
          },
          "size": 0.001,
          "symbol": "line-ew"
         },
         "mode": "markers",
         "name": "preface : E-1",
         "type": "scatter",
         "x": [
          15,
          15,
          15,
          15,
          15,
          15,
          15,
          15,
          15,
          15,
          15,
          15,
          15,
          15,
          15,
          15,
          15,
          15,
          15,
          15,
          15,
          15,
          15,
          15,
          15,
          15,
          15,
          15,
          15,
          15,
          15,
          15,
          15,
          15
         ],
         "y": [
          34,
          33,
          32,
          31,
          30,
          29,
          28,
          27,
          26,
          25,
          24,
          23,
          22,
          21,
          20,
          19,
          18,
          17,
          16,
          15,
          14,
          13,
          12,
          11,
          10,
          9,
          8,
          7,
          6,
          5,
          4,
          3,
          2,
          1
         ]
        },
        {
         "marker": {
          "color": "rgb(135,206,250)",
          "line": {
           "color": "rgb(135,206,250)",
           "width": 3
          },
          "size": 4,
          "symbol": "line-ew"
         },
         "mode": "markers",
         "name": "preface : E-1",
         "type": "scatter",
         "x": [],
         "y": []
        },
        {
         "marker": {
          "color": "rgb(135,206,250)",
          "line": {
           "color": "rgb(135,206,250)",
           "width": 3
          },
          "size": 16,
          "symbol": "line-ew"
         },
         "mode": "markers",
         "name": "preface : E-1",
         "type": "scatter",
         "x": [],
         "y": []
        },
        {
         "marker": {
          "color": "rgb(135,206,250)",
          "line": {
           "color": "rgb(135,206,250)",
           "width": 3
          },
          "size": 44,
          "symbol": "line-ew"
         },
         "mode": "markers",
         "name": "preface : E-1",
         "type": "scatter",
         "x": [],
         "y": []
        },
        {
         "marker": {
          "color": "rgb(135,206,250)",
          "line": {
           "color": "rgb(135,206,250)",
           "width": 3
          },
          "size": 0.5,
          "symbol": "line-ew"
         },
         "mode": "markers",
         "name": "preface : E-1",
         "type": "scatter",
         "x": [],
         "y": []
        },
        {
         "marker": {
          "color": "rgb(135,206,250)",
          "line": {
           "color": "rgb(135,206,250)",
           "width": 3
          },
          "size": 4,
          "symbol": "line-ew"
         },
         "mode": "markers",
         "name": "preface : E-1",
         "type": "scatter",
         "x": [],
         "y": []
        },
        {
         "marker": {
          "color": "rgb(135,206,250)",
          "line": {
           "color": "rgb(135,206,250)",
           "width": 3
          },
          "size": 16,
          "symbol": "line-ew"
         },
         "mode": "markers",
         "name": "preface : E-1",
         "type": "scatter",
         "x": [],
         "y": []
        },
        {
         "marker": {
          "color": "rgb(135,206,250)",
          "line": {
           "color": "rgb(135,206,250)",
           "width": 3
          },
          "size": 44,
          "symbol": "line-ew"
         },
         "mode": "markers",
         "name": "preface : E-1",
         "type": "scatter",
         "x": [],
         "y": []
        },
        {
         "marker": {
          "color": "black",
          "line": {
           "color": "black",
           "width": 3
          },
          "size": 0.001,
          "symbol": "line-ew"
         },
         "mode": "markers",
         "name": "preface : E-1",
         "type": "scatter",
         "x": [
          108
         ],
         "y": [
          0
         ]
        },
        {
         "marker": {
          "color": "red",
          "line": {
           "color": "red"
          },
          "symbol": "circle"
         },
         "mode": "markers",
         "name": "preface : E-1",
         "type": "scatter",
         "x": [
          15
         ],
         "y": [
          34
         ]
        },
        {
         "marker": {
          "color": "black",
          "line": {
           "color": "black"
          },
          "symbol": "circle"
         },
         "mode": "markers",
         "name": "preface : E-1",
         "type": "scatter",
         "x": [
          15
         ],
         "y": [
          86
         ]
        },
        {
         "marker": {
          "color": "rgb(135,206,250)",
          "line": {
           "color": "rgb(135,206,250)",
           "width": 3
          },
          "size": 0.001,
          "symbol": "line-ew"
         },
         "mode": "markers",
         "name": "preface : E-3",
         "type": "scatter",
         "x": [
          27,
          27,
          27,
          27,
          27,
          27,
          27,
          27,
          27,
          27,
          27,
          27,
          27,
          27,
          27,
          27,
          27,
          27,
          27,
          27,
          27,
          27,
          27,
          27,
          27,
          27,
          27,
          27,
          27,
          27,
          27,
          27,
          27,
          27,
          27,
          27,
          27,
          27,
          27,
          27,
          27,
          27,
          27,
          27,
          27,
          27,
          27,
          27,
          27,
          27,
          27
         ],
         "y": [
          91,
          90,
          89,
          88,
          87,
          86,
          85,
          84,
          83,
          82,
          81,
          80,
          79,
          78,
          77,
          76,
          75,
          74,
          73,
          72,
          71,
          70,
          69,
          68,
          67,
          66,
          65,
          64,
          63,
          62,
          61,
          60,
          59,
          58,
          57,
          56,
          55,
          54,
          53,
          52,
          51,
          50,
          49,
          48,
          47,
          46,
          45,
          44,
          43,
          42,
          41
         ]
        },
        {
         "marker": {
          "color": "rgb(135,206,250)",
          "line": {
           "color": "rgb(135,206,250)",
           "width": 3
          },
          "size": 4,
          "symbol": "line-ew"
         },
         "mode": "markers",
         "name": "preface : E-3",
         "type": "scatter",
         "x": [],
         "y": []
        },
        {
         "marker": {
          "color": "rgb(135,206,250)",
          "line": {
           "color": "rgb(135,206,250)",
           "width": 3
          },
          "size": 0.001,
          "symbol": "line-ew"
         },
         "mode": "markers",
         "name": "preface : E-3",
         "type": "scatter",
         "x": [
          27,
          27,
          27,
          27,
          27,
          27,
          27,
          27,
          27,
          27,
          27,
          27,
          27,
          27,
          27,
          27,
          27,
          27,
          27,
          27,
          27,
          27,
          27,
          27,
          27,
          27,
          27,
          27,
          27,
          27,
          27,
          27,
          27,
          27,
          27,
          27,
          27,
          27,
          27,
          27
         ],
         "y": [
          40,
          39,
          38,
          37,
          36,
          35,
          34,
          33,
          32,
          31,
          30,
          29,
          28,
          27,
          26,
          25,
          24,
          23,
          22,
          21,
          20,
          19,
          18,
          17,
          16,
          15,
          14,
          13,
          12,
          11,
          10,
          9,
          8,
          7,
          6,
          5,
          4,
          3,
          2,
          1
         ]
        },
        {
         "marker": {
          "color": "rgb(135,206,250)",
          "line": {
           "color": "rgb(135,206,250)",
           "width": 3
          },
          "size": 4,
          "symbol": "line-ew"
         },
         "mode": "markers",
         "name": "preface : E-3",
         "type": "scatter",
         "x": [],
         "y": []
        },
        {
         "marker": {
          "color": "rgb(135,206,250)",
          "line": {
           "color": "rgb(135,206,250)",
           "width": 3
          },
          "size": 16,
          "symbol": "line-ew"
         },
         "mode": "markers",
         "name": "preface : E-3",
         "type": "scatter",
         "x": [],
         "y": []
        },
        {
         "marker": {
          "color": "rgb(135,206,250)",
          "line": {
           "color": "rgb(135,206,250)",
           "width": 3
          },
          "size": 44,
          "symbol": "line-ew"
         },
         "mode": "markers",
         "name": "preface : E-3",
         "type": "scatter",
         "x": [],
         "y": []
        },
        {
         "marker": {
          "color": "rgb(135,206,250)",
          "line": {
           "color": "rgb(135,206,250)",
           "width": 3
          },
          "size": 0.5,
          "symbol": "line-ew"
         },
         "mode": "markers",
         "name": "preface : E-3",
         "type": "scatter",
         "x": [],
         "y": []
        },
        {
         "marker": {
          "color": "rgb(135,206,250)",
          "line": {
           "color": "rgb(135,206,250)",
           "width": 3
          },
          "size": 4,
          "symbol": "line-ew"
         },
         "mode": "markers",
         "name": "preface : E-3",
         "type": "scatter",
         "x": [],
         "y": []
        },
        {
         "marker": {
          "color": "rgb(135,206,250)",
          "line": {
           "color": "rgb(135,206,250)",
           "width": 3
          },
          "size": 16,
          "symbol": "line-ew"
         },
         "mode": "markers",
         "name": "preface : E-3",
         "type": "scatter",
         "x": [],
         "y": []
        },
        {
         "marker": {
          "color": "rgb(135,206,250)",
          "line": {
           "color": "rgb(135,206,250)",
           "width": 3
          },
          "size": 44,
          "symbol": "line-ew"
         },
         "mode": "markers",
         "name": "preface : E-3",
         "type": "scatter",
         "x": [],
         "y": []
        },
        {
         "marker": {
          "color": "black",
          "line": {
           "color": "black",
           "width": 3
          },
          "size": 0.001,
          "symbol": "line-ew"
         },
         "mode": "markers",
         "name": "preface : E-3",
         "type": "scatter",
         "x": [
          108
         ],
         "y": [
          0
         ]
        },
        {
         "marker": {
          "color": "red",
          "line": {
           "color": "red"
          },
          "symbol": "circle"
         },
         "mode": "markers",
         "name": "preface : E-3",
         "type": "scatter",
         "x": [
          27
         ],
         "y": [
          40
         ]
        },
        {
         "marker": {
          "color": "black",
          "line": {
           "color": "black"
          },
          "symbol": "circle"
         },
         "mode": "markers",
         "name": "preface : E-3",
         "type": "scatter",
         "x": [
          27
         ],
         "y": [
          92
         ]
        },
        {
         "marker": {
          "color": "rgb(255,189,85)",
          "line": {
           "color": "rgb(255,189,85)",
           "width": 3
          },
          "size": 0.001,
          "symbol": "line-ew"
         },
         "mode": "markers",
         "name": "embed : E-2",
         "type": "scatter",
         "x": [
          6,
          6,
          6,
          6,
          6,
          6,
          6,
          6,
          6,
          6,
          6,
          6,
          6,
          6,
          6,
          6,
          6,
          6,
          6,
          6,
          6,
          6,
          6,
          6,
          6,
          6,
          6,
          6,
          6,
          6,
          6,
          6,
          6,
          6,
          6,
          6,
          6,
          6,
          6,
          6,
          6,
          6
         ],
         "y": [
          238,
          237,
          236,
          235,
          234,
          233,
          232,
          231,
          230,
          229,
          228,
          227,
          226,
          225,
          224,
          223,
          222,
          221,
          220,
          219,
          218,
          217,
          216,
          215,
          214,
          213,
          211,
          210,
          209,
          208,
          207,
          206,
          205,
          204,
          203,
          201,
          197,
          193,
          191,
          190,
          189,
          188
         ]
        },
        {
         "marker": {
          "color": "rgb(255,189,85)",
          "line": {
           "color": "rgb(255,189,85)",
           "width": 3
          },
          "size": 4,
          "symbol": "line-ew"
         },
         "mode": "markers",
         "name": "embed : E-2",
         "type": "scatter",
         "x": [
          6,
          6,
          6,
          6,
          6,
          6,
          6,
          6,
          6
         ],
         "y": [
          212,
          202,
          200,
          199,
          198,
          196,
          195,
          194,
          192
         ]
        },
        {
         "marker": {
          "color": "rgb(255,189,85)",
          "line": {
           "color": "rgb(255,189,85)",
           "width": 3
          },
          "size": 0.001,
          "symbol": "line-ew"
         },
         "mode": "markers",
         "name": "embed : E-2",
         "type": "scatter",
         "x": [
          6
         ],
         "y": [
          187
         ]
        },
        {
         "marker": {
          "color": "rgb(255,189,85)",
          "line": {
           "color": "rgb(255,189,85)",
           "width": 3
          },
          "size": 4,
          "symbol": "line-ew"
         },
         "mode": "markers",
         "name": "embed : E-2",
         "type": "scatter",
         "x": [],
         "y": []
        },
        {
         "marker": {
          "color": "rgb(255,189,85)",
          "line": {
           "color": "rgb(255,189,85)",
           "width": 3
          },
          "size": 16,
          "symbol": "line-ew"
         },
         "mode": "markers",
         "name": "embed : E-2",
         "type": "scatter",
         "x": [],
         "y": []
        },
        {
         "marker": {
          "color": "rgb(255,189,85)",
          "line": {
           "color": "rgb(255,189,85)",
           "width": 3
          },
          "size": 44,
          "symbol": "line-ew"
         },
         "mode": "markers",
         "name": "embed : E-2",
         "type": "scatter",
         "x": [],
         "y": []
        },
        {
         "marker": {
          "color": "rgb(255,189,85)",
          "line": {
           "color": "rgb(255,189,85)",
           "width": 3
          },
          "size": 0.5,
          "symbol": "line-ew"
         },
         "mode": "markers",
         "name": "embed : E-2",
         "type": "scatter",
         "x": [
          6,
          6,
          6,
          6,
          6,
          6,
          6,
          6,
          6,
          6,
          6,
          6,
          6,
          6,
          6,
          6,
          6,
          6,
          6,
          6,
          6,
          6,
          6,
          6,
          6,
          6,
          6,
          6,
          6,
          6,
          6,
          6,
          6,
          6,
          6,
          6,
          6,
          6,
          6,
          6,
          6,
          6,
          6,
          6,
          6,
          6
         ],
         "y": [
          168,
          165,
          162,
          161,
          160,
          159,
          158,
          150,
          149,
          148,
          147,
          146,
          145,
          144,
          143,
          142,
          141,
          140,
          139,
          138,
          137,
          136,
          135,
          134,
          133,
          132,
          131,
          130,
          129,
          128,
          127,
          126,
          125,
          124,
          123,
          122,
          121,
          120,
          119,
          118,
          117,
          116,
          115,
          114,
          113,
          112
         ]
        },
        {
         "marker": {
          "color": "rgb(255,189,85)",
          "line": {
           "color": "rgb(255,189,85)",
           "width": 3
          },
          "size": 4,
          "symbol": "line-ew"
         },
         "mode": "markers",
         "name": "embed : E-2",
         "type": "scatter",
         "x": [
          6,
          6,
          6,
          6,
          6,
          6,
          6,
          6,
          6,
          6,
          6,
          6,
          6,
          6,
          6,
          6,
          6,
          6,
          6,
          6,
          6,
          6,
          6,
          6,
          6,
          6,
          6,
          6,
          6,
          6,
          6,
          6,
          6,
          6,
          6,
          6,
          6,
          6,
          6,
          6,
          6,
          6,
          6,
          6,
          6,
          6,
          6,
          6,
          6,
          6,
          6,
          6
         ],
         "y": [
          78,
          77,
          76,
          75,
          74,
          73,
          72,
          62,
          61,
          60,
          59,
          58,
          57,
          56,
          55,
          47,
          46,
          45,
          44,
          43,
          42,
          41,
          39,
          38,
          37,
          36,
          35,
          34,
          33,
          32,
          31,
          30,
          29,
          28,
          27,
          26,
          25,
          24,
          23,
          22,
          21,
          20,
          19,
          18,
          17,
          16,
          15,
          14,
          13,
          12,
          11,
          10
         ]
        },
        {
         "marker": {
          "color": "rgb(255,189,85)",
          "line": {
           "color": "rgb(255,189,85)",
           "width": 3
          },
          "size": 16,
          "symbol": "line-ew"
         },
         "mode": "markers",
         "name": "embed : E-2",
         "type": "scatter",
         "x": [
          6,
          6,
          6,
          6,
          6,
          6,
          6,
          6,
          6,
          6,
          6,
          6,
          6,
          6,
          6,
          6,
          6,
          6,
          6,
          6,
          6,
          6,
          6,
          6,
          6,
          6,
          6,
          6,
          6,
          6,
          6,
          6,
          6,
          6,
          6,
          6,
          6,
          6,
          6,
          6,
          6,
          6,
          6,
          6,
          6,
          6,
          6,
          6,
          6,
          6,
          6,
          6,
          6,
          6,
          6,
          6,
          6,
          6,
          6,
          6,
          6,
          6,
          6,
          6,
          6,
          6,
          6,
          6,
          6,
          6,
          6,
          6,
          6,
          6,
          6,
          6,
          6,
          6,
          6,
          6,
          6,
          6
         ],
         "y": [
          186,
          184,
          183,
          181,
          180,
          179,
          178,
          176,
          175,
          174,
          173,
          172,
          171,
          170,
          166,
          164,
          157,
          156,
          155,
          154,
          153,
          152,
          151,
          111,
          110,
          109,
          108,
          107,
          106,
          105,
          104,
          103,
          102,
          101,
          100,
          99,
          98,
          97,
          96,
          95,
          94,
          93,
          92,
          91,
          90,
          89,
          88,
          87,
          86,
          85,
          84,
          83,
          82,
          81,
          80,
          79,
          71,
          70,
          69,
          68,
          67,
          66,
          65,
          64,
          63,
          54,
          53,
          52,
          51,
          50,
          49,
          48,
          40,
          9,
          8,
          7,
          6,
          5,
          4,
          3,
          2,
          1
         ]
        },
        {
         "marker": {
          "color": "rgb(255,189,85)",
          "line": {
           "color": "rgb(255,189,85)",
           "width": 3
          },
          "size": 44,
          "symbol": "line-ew"
         },
         "mode": "markers",
         "name": "embed : E-2",
         "type": "scatter",
         "x": [
          6,
          6,
          6,
          6,
          6,
          6
         ],
         "y": [
          185,
          182,
          177,
          169,
          167,
          163
         ]
        },
        {
         "marker": {
          "color": "black",
          "line": {
           "color": "black",
           "width": 3
          },
          "size": 0.001,
          "symbol": "line-ew"
         },
         "mode": "markers",
         "name": "embed : E-2",
         "type": "scatter",
         "x": [
          108
         ],
         "y": [
          0
         ]
        },
        {
         "marker": {
          "color": "red",
          "line": {
           "color": "red"
          },
          "symbol": "circle"
         },
         "mode": "markers",
         "name": "embed : E-2",
         "type": "scatter",
         "x": [
          6
         ],
         "y": [
          187
         ]
        },
        {
         "marker": {
          "color": "black",
          "line": {
           "color": "black"
          },
          "symbol": "circle"
         },
         "mode": "markers",
         "name": "embed : E-2",
         "type": "scatter",
         "x": [
          6
         ],
         "y": [
          239
         ]
        },
        {
         "marker": {
          "color": "rgb(255,189,85)",
          "line": {
           "color": "rgb(255,189,85)",
           "width": 3
          },
          "size": 0.001,
          "symbol": "line-ew"
         },
         "mode": "markers",
         "name": "embed : E-1",
         "type": "scatter",
         "x": [
          18,
          18,
          18,
          18,
          18,
          18,
          18,
          18,
          18,
          18,
          18,
          18,
          18,
          18,
          18,
          18,
          18,
          18,
          18,
          18,
          18,
          18,
          18,
          18,
          18,
          18,
          18,
          18,
          18,
          18,
          18,
          18,
          18,
          18,
          18,
          18,
          18,
          18,
          18,
          18,
          18,
          18,
          18,
          18,
          18,
          18,
          18,
          18,
          18,
          18,
          18
         ],
         "y": [
          85,
          84,
          83,
          82,
          81,
          80,
          79,
          78,
          77,
          76,
          75,
          74,
          73,
          72,
          71,
          70,
          69,
          68,
          67,
          66,
          65,
          64,
          63,
          62,
          61,
          60,
          59,
          58,
          57,
          56,
          55,
          54,
          53,
          52,
          51,
          50,
          49,
          48,
          47,
          46,
          45,
          44,
          43,
          42,
          41,
          40,
          39,
          38,
          37,
          36,
          35
         ]
        },
        {
         "marker": {
          "color": "rgb(255,189,85)",
          "line": {
           "color": "rgb(255,189,85)",
           "width": 3
          },
          "size": 4,
          "symbol": "line-ew"
         },
         "mode": "markers",
         "name": "embed : E-1",
         "type": "scatter",
         "x": [],
         "y": []
        },
        {
         "marker": {
          "color": "rgb(255,189,85)",
          "line": {
           "color": "rgb(255,189,85)",
           "width": 3
          },
          "size": 0.001,
          "symbol": "line-ew"
         },
         "mode": "markers",
         "name": "embed : E-1",
         "type": "scatter",
         "x": [
          18,
          18,
          18,
          18,
          18,
          18,
          18,
          18,
          18,
          18,
          18,
          18,
          18,
          18,
          18,
          18,
          18,
          18,
          18,
          18,
          18,
          18,
          18,
          18,
          18,
          18,
          18,
          18,
          18,
          18,
          18,
          18,
          18,
          18
         ],
         "y": [
          34,
          33,
          32,
          31,
          30,
          29,
          28,
          27,
          26,
          25,
          24,
          23,
          22,
          21,
          20,
          19,
          18,
          17,
          16,
          15,
          14,
          13,
          12,
          11,
          10,
          9,
          8,
          7,
          6,
          5,
          4,
          3,
          2,
          1
         ]
        },
        {
         "marker": {
          "color": "rgb(255,189,85)",
          "line": {
           "color": "rgb(255,189,85)",
           "width": 3
          },
          "size": 4,
          "symbol": "line-ew"
         },
         "mode": "markers",
         "name": "embed : E-1",
         "type": "scatter",
         "x": [],
         "y": []
        },
        {
         "marker": {
          "color": "rgb(255,189,85)",
          "line": {
           "color": "rgb(255,189,85)",
           "width": 3
          },
          "size": 16,
          "symbol": "line-ew"
         },
         "mode": "markers",
         "name": "embed : E-1",
         "type": "scatter",
         "x": [],
         "y": []
        },
        {
         "marker": {
          "color": "rgb(255,189,85)",
          "line": {
           "color": "rgb(255,189,85)",
           "width": 3
          },
          "size": 44,
          "symbol": "line-ew"
         },
         "mode": "markers",
         "name": "embed : E-1",
         "type": "scatter",
         "x": [],
         "y": []
        },
        {
         "marker": {
          "color": "rgb(255,189,85)",
          "line": {
           "color": "rgb(255,189,85)",
           "width": 3
          },
          "size": 0.5,
          "symbol": "line-ew"
         },
         "mode": "markers",
         "name": "embed : E-1",
         "type": "scatter",
         "x": [],
         "y": []
        },
        {
         "marker": {
          "color": "rgb(255,189,85)",
          "line": {
           "color": "rgb(255,189,85)",
           "width": 3
          },
          "size": 4,
          "symbol": "line-ew"
         },
         "mode": "markers",
         "name": "embed : E-1",
         "type": "scatter",
         "x": [],
         "y": []
        },
        {
         "marker": {
          "color": "rgb(255,189,85)",
          "line": {
           "color": "rgb(255,189,85)",
           "width": 3
          },
          "size": 16,
          "symbol": "line-ew"
         },
         "mode": "markers",
         "name": "embed : E-1",
         "type": "scatter",
         "x": [],
         "y": []
        },
        {
         "marker": {
          "color": "rgb(255,189,85)",
          "line": {
           "color": "rgb(255,189,85)",
           "width": 3
          },
          "size": 44,
          "symbol": "line-ew"
         },
         "mode": "markers",
         "name": "embed : E-1",
         "type": "scatter",
         "x": [],
         "y": []
        },
        {
         "marker": {
          "color": "black",
          "line": {
           "color": "black",
           "width": 3
          },
          "size": 0.001,
          "symbol": "line-ew"
         },
         "mode": "markers",
         "name": "embed : E-1",
         "type": "scatter",
         "x": [
          108
         ],
         "y": [
          0
         ]
        },
        {
         "marker": {
          "color": "red",
          "line": {
           "color": "red"
          },
          "symbol": "circle"
         },
         "mode": "markers",
         "name": "embed : E-1",
         "type": "scatter",
         "x": [
          18
         ],
         "y": [
          34
         ]
        },
        {
         "marker": {
          "color": "black",
          "line": {
           "color": "black"
          },
          "symbol": "circle"
         },
         "mode": "markers",
         "name": "embed : E-1",
         "type": "scatter",
         "x": [
          18
         ],
         "y": [
          86
         ]
        },
        {
         "marker": {
          "color": "rgb(255,189,85)",
          "line": {
           "color": "rgb(255,189,85)",
           "width": 3
          },
          "size": 0.001,
          "symbol": "line-ew"
         },
         "mode": "markers",
         "name": "embed : E-3",
         "type": "scatter",
         "x": [
          30,
          30,
          30,
          30,
          30,
          30,
          30,
          30,
          30,
          30,
          30,
          30,
          30,
          30,
          30,
          30,
          30,
          30,
          30,
          30,
          30,
          30,
          30,
          30,
          30,
          30,
          30,
          30,
          30,
          30,
          30,
          30,
          30,
          30,
          30,
          30,
          30,
          30,
          30,
          30,
          30,
          30,
          30,
          30,
          30,
          30,
          30,
          30
         ],
         "y": [
          88,
          87,
          86,
          85,
          84,
          83,
          82,
          81,
          80,
          79,
          78,
          77,
          76,
          75,
          74,
          73,
          72,
          71,
          70,
          69,
          68,
          67,
          66,
          65,
          64,
          63,
          62,
          61,
          60,
          59,
          58,
          57,
          56,
          55,
          54,
          53,
          52,
          51,
          50,
          49,
          48,
          47,
          46,
          45,
          44,
          43,
          42,
          41
         ]
        },
        {
         "marker": {
          "color": "rgb(255,189,85)",
          "line": {
           "color": "rgb(255,189,85)",
           "width": 3
          },
          "size": 4,
          "symbol": "line-ew"
         },
         "mode": "markers",
         "name": "embed : E-3",
         "type": "scatter",
         "x": [
          30,
          30,
          30
         ],
         "y": [
          91,
          90,
          89
         ]
        },
        {
         "marker": {
          "color": "rgb(255,189,85)",
          "line": {
           "color": "rgb(255,189,85)",
           "width": 3
          },
          "size": 0.001,
          "symbol": "line-ew"
         },
         "mode": "markers",
         "name": "embed : E-3",
         "type": "scatter",
         "x": [
          30,
          30,
          30,
          30,
          30,
          30,
          30,
          30,
          30,
          30,
          30,
          30,
          30,
          30,
          30,
          30,
          30,
          30,
          30,
          30,
          30,
          30,
          30,
          30,
          30,
          30,
          30,
          30,
          30,
          30,
          30,
          30,
          30,
          30,
          30,
          30,
          30,
          30,
          30,
          30
         ],
         "y": [
          40,
          39,
          38,
          37,
          36,
          35,
          34,
          33,
          32,
          31,
          30,
          29,
          28,
          27,
          26,
          25,
          24,
          23,
          22,
          21,
          20,
          19,
          18,
          17,
          16,
          15,
          14,
          13,
          12,
          11,
          10,
          9,
          8,
          7,
          6,
          5,
          4,
          3,
          2,
          1
         ]
        },
        {
         "marker": {
          "color": "rgb(255,189,85)",
          "line": {
           "color": "rgb(255,189,85)",
           "width": 3
          },
          "size": 4,
          "symbol": "line-ew"
         },
         "mode": "markers",
         "name": "embed : E-3",
         "type": "scatter",
         "x": [],
         "y": []
        },
        {
         "marker": {
          "color": "rgb(255,189,85)",
          "line": {
           "color": "rgb(255,189,85)",
           "width": 3
          },
          "size": 16,
          "symbol": "line-ew"
         },
         "mode": "markers",
         "name": "embed : E-3",
         "type": "scatter",
         "x": [],
         "y": []
        },
        {
         "marker": {
          "color": "rgb(255,189,85)",
          "line": {
           "color": "rgb(255,189,85)",
           "width": 3
          },
          "size": 44,
          "symbol": "line-ew"
         },
         "mode": "markers",
         "name": "embed : E-3",
         "type": "scatter",
         "x": [],
         "y": []
        },
        {
         "marker": {
          "color": "rgb(255,189,85)",
          "line": {
           "color": "rgb(255,189,85)",
           "width": 3
          },
          "size": 0.5,
          "symbol": "line-ew"
         },
         "mode": "markers",
         "name": "embed : E-3",
         "type": "scatter",
         "x": [],
         "y": []
        },
        {
         "marker": {
          "color": "rgb(255,189,85)",
          "line": {
           "color": "rgb(255,189,85)",
           "width": 3
          },
          "size": 4,
          "symbol": "line-ew"
         },
         "mode": "markers",
         "name": "embed : E-3",
         "type": "scatter",
         "x": [],
         "y": []
        },
        {
         "marker": {
          "color": "rgb(255,189,85)",
          "line": {
           "color": "rgb(255,189,85)",
           "width": 3
          },
          "size": 16,
          "symbol": "line-ew"
         },
         "mode": "markers",
         "name": "embed : E-3",
         "type": "scatter",
         "x": [],
         "y": []
        },
        {
         "marker": {
          "color": "rgb(255,189,85)",
          "line": {
           "color": "rgb(255,189,85)",
           "width": 3
          },
          "size": 44,
          "symbol": "line-ew"
         },
         "mode": "markers",
         "name": "embed : E-3",
         "type": "scatter",
         "x": [],
         "y": []
        },
        {
         "marker": {
          "color": "black",
          "line": {
           "color": "black",
           "width": 3
          },
          "size": 0.001,
          "symbol": "line-ew"
         },
         "mode": "markers",
         "name": "embed : E-3",
         "type": "scatter",
         "x": [
          108
         ],
         "y": [
          0
         ]
        },
        {
         "marker": {
          "color": "red",
          "line": {
           "color": "red"
          },
          "symbol": "circle"
         },
         "mode": "markers",
         "name": "embed : E-3",
         "type": "scatter",
         "x": [
          30
         ],
         "y": [
          40
         ]
        },
        {
         "marker": {
          "color": "black",
          "line": {
           "color": "black"
          },
          "symbol": "circle"
         },
         "mode": "markers",
         "name": "embed : E-3",
         "type": "scatter",
         "x": [
          30
         ],
         "y": [
          92
         ]
        },
        {
         "marker": {
          "color": "rgb(160,160,160)",
          "line": {
           "color": "rgb(160,160,160)",
           "width": 3
          },
          "size": 0.001,
          "symbol": "line-ew"
         },
         "mode": "markers",
         "name": "premise : E-2",
         "type": "scatter",
         "x": [
          9,
          9,
          9,
          9,
          9,
          9,
          9,
          9,
          9,
          9,
          9,
          9,
          9,
          9,
          9,
          9,
          9,
          9,
          9,
          9,
          9,
          9,
          9,
          9,
          9,
          9,
          9,
          9,
          9,
          9,
          9,
          9,
          9,
          9
         ],
         "y": [
          238,
          237,
          236,
          235,
          234,
          233,
          232,
          231,
          230,
          229,
          228,
          227,
          226,
          225,
          224,
          223,
          222,
          221,
          220,
          219,
          218,
          217,
          216,
          215,
          214,
          213,
          212,
          211,
          210,
          209,
          208,
          207,
          206,
          205
         ]
        },
        {
         "marker": {
          "color": "rgb(160,160,160)",
          "line": {
           "color": "rgb(160,160,160)",
           "width": 3
          },
          "size": 4,
          "symbol": "line-ew"
         },
         "mode": "markers",
         "name": "premise : E-2",
         "type": "scatter",
         "x": [
          9,
          9,
          9,
          9,
          9,
          9,
          9,
          9,
          9,
          9,
          9,
          9,
          9,
          9,
          9,
          9,
          9
         ],
         "y": [
          204,
          203,
          202,
          201,
          200,
          199,
          198,
          197,
          196,
          195,
          194,
          193,
          192,
          191,
          190,
          189,
          188
         ]
        },
        {
         "marker": {
          "color": "rgb(160,160,160)",
          "line": {
           "color": "rgb(160,160,160)",
           "width": 3
          },
          "size": 0.001,
          "symbol": "line-ew"
         },
         "mode": "markers",
         "name": "premise : E-2",
         "type": "scatter",
         "x": [
          9
         ],
         "y": [
          187
         ]
        },
        {
         "marker": {
          "color": "rgb(160,160,160)",
          "line": {
           "color": "rgb(160,160,160)",
           "width": 3
          },
          "size": 4,
          "symbol": "line-ew"
         },
         "mode": "markers",
         "name": "premise : E-2",
         "type": "scatter",
         "x": [],
         "y": []
        },
        {
         "marker": {
          "color": "rgb(160,160,160)",
          "line": {
           "color": "rgb(160,160,160)",
           "width": 3
          },
          "size": 16,
          "symbol": "line-ew"
         },
         "mode": "markers",
         "name": "premise : E-2",
         "type": "scatter",
         "x": [],
         "y": []
        },
        {
         "marker": {
          "color": "rgb(160,160,160)",
          "line": {
           "color": "rgb(160,160,160)",
           "width": 3
          },
          "size": 44,
          "symbol": "line-ew"
         },
         "mode": "markers",
         "name": "premise : E-2",
         "type": "scatter",
         "x": [],
         "y": []
        },
        {
         "marker": {
          "color": "rgb(160,160,160)",
          "line": {
           "color": "rgb(160,160,160)",
           "width": 3
          },
          "size": 0.5,
          "symbol": "line-ew"
         },
         "mode": "markers",
         "name": "premise : E-2",
         "type": "scatter",
         "x": [
          9,
          9,
          9,
          9,
          9,
          9,
          9,
          9,
          9,
          9,
          9,
          9,
          9,
          9,
          9,
          9,
          9,
          9,
          9,
          9,
          9,
          9,
          9,
          9,
          9,
          9,
          9,
          9,
          9,
          9,
          9,
          9,
          9,
          9,
          9,
          9,
          9,
          9,
          9,
          9,
          9,
          9,
          9,
          9,
          9,
          9,
          9,
          9,
          9,
          9,
          9,
          9,
          9,
          9,
          9,
          9,
          9,
          9,
          9,
          9,
          9,
          9,
          9,
          9,
          9,
          9,
          9,
          9,
          9,
          9,
          9,
          9,
          9,
          9,
          9,
          9,
          9,
          9,
          9,
          9,
          9,
          9,
          9,
          9,
          9,
          9,
          9,
          9,
          9,
          9,
          9,
          9,
          9,
          9,
          9,
          9,
          9,
          9,
          9,
          9,
          9,
          9,
          9,
          9,
          9,
          9,
          9,
          9,
          9,
          9,
          9,
          9,
          9,
          9,
          9,
          9,
          9,
          9,
          9,
          9,
          9,
          9
         ],
         "y": [
          122,
          121,
          120,
          119,
          118,
          117,
          116,
          115,
          114,
          113,
          112,
          111,
          110,
          109,
          108,
          107,
          106,
          105,
          104,
          103,
          102,
          101,
          100,
          99,
          98,
          97,
          96,
          95,
          94,
          93,
          92,
          91,
          90,
          89,
          88,
          87,
          86,
          85,
          84,
          83,
          82,
          81,
          80,
          79,
          78,
          77,
          76,
          75,
          74,
          73,
          72,
          71,
          70,
          69,
          68,
          67,
          66,
          65,
          64,
          63,
          62,
          61,
          60,
          59,
          58,
          57,
          56,
          55,
          54,
          53,
          52,
          51,
          50,
          49,
          48,
          47,
          46,
          45,
          44,
          43,
          42,
          41,
          40,
          39,
          38,
          37,
          36,
          35,
          34,
          33,
          32,
          31,
          30,
          29,
          28,
          27,
          26,
          25,
          24,
          23,
          22,
          21,
          20,
          19,
          18,
          17,
          16,
          15,
          14,
          13,
          12,
          11,
          10,
          9,
          8,
          7,
          6,
          5,
          4,
          3,
          2,
          1
         ]
        },
        {
         "marker": {
          "color": "rgb(160,160,160)",
          "line": {
           "color": "rgb(160,160,160)",
           "width": 3
          },
          "size": 4,
          "symbol": "line-ew"
         },
         "mode": "markers",
         "name": "premise : E-2",
         "type": "scatter",
         "x": [
          9,
          9,
          9,
          9,
          9,
          9,
          9,
          9,
          9,
          9,
          9,
          9,
          9,
          9,
          9,
          9,
          9,
          9,
          9,
          9,
          9,
          9,
          9,
          9,
          9,
          9,
          9,
          9,
          9,
          9,
          9,
          9,
          9,
          9,
          9,
          9,
          9,
          9,
          9,
          9,
          9,
          9,
          9,
          9,
          9,
          9,
          9,
          9,
          9,
          9
         ],
         "y": [
          180,
          179,
          178,
          177,
          176,
          175,
          174,
          173,
          172,
          171,
          170,
          169,
          168,
          167,
          166,
          165,
          164,
          163,
          162,
          161,
          152,
          151,
          150,
          149,
          148,
          147,
          146,
          145,
          144,
          143,
          142,
          141,
          140,
          139,
          138,
          137,
          136,
          135,
          134,
          133,
          132,
          131,
          130,
          129,
          128,
          127,
          126,
          125,
          124,
          123
         ]
        },
        {
         "marker": {
          "color": "rgb(160,160,160)",
          "line": {
           "color": "rgb(160,160,160)",
           "width": 3
          },
          "size": 16,
          "symbol": "line-ew"
         },
         "mode": "markers",
         "name": "premise : E-2",
         "type": "scatter",
         "x": [],
         "y": []
        },
        {
         "marker": {
          "color": "rgb(160,160,160)",
          "line": {
           "color": "rgb(160,160,160)",
           "width": 3
          },
          "size": 44,
          "symbol": "line-ew"
         },
         "mode": "markers",
         "name": "premise : E-2",
         "type": "scatter",
         "x": [
          9,
          9,
          9,
          9,
          9,
          9,
          9,
          9,
          9,
          9,
          9,
          9,
          9,
          9
         ],
         "y": [
          186,
          185,
          184,
          183,
          182,
          181,
          160,
          159,
          158,
          157,
          156,
          155,
          154,
          153
         ]
        },
        {
         "marker": {
          "color": "black",
          "line": {
           "color": "black",
           "width": 3
          },
          "size": 0.001,
          "symbol": "line-ew"
         },
         "mode": "markers",
         "name": "premise : E-2",
         "type": "scatter",
         "x": [
          108
         ],
         "y": [
          0
         ]
        },
        {
         "marker": {
          "color": "red",
          "line": {
           "color": "red"
          },
          "symbol": "circle"
         },
         "mode": "markers",
         "name": "premise : E-2",
         "type": "scatter",
         "x": [
          9
         ],
         "y": [
          187
         ]
        },
        {
         "marker": {
          "color": "black",
          "line": {
           "color": "black"
          },
          "symbol": "circle"
         },
         "mode": "markers",
         "name": "premise : E-2",
         "type": "scatter",
         "x": [
          9
         ],
         "y": [
          239
         ]
        },
        {
         "marker": {
          "color": "rgb(160,160,160)",
          "line": {
           "color": "rgb(160,160,160)",
           "width": 3
          },
          "size": 0.001,
          "symbol": "line-ew"
         },
         "mode": "markers",
         "name": "premise : E-1",
         "type": "scatter",
         "x": [
          21,
          21,
          21,
          21,
          21,
          21,
          21,
          21,
          21,
          21,
          21,
          21,
          21,
          21,
          21,
          21,
          21,
          21,
          21,
          21,
          21,
          21,
          21,
          21,
          21,
          21,
          21,
          21,
          21,
          21,
          21,
          21,
          21,
          21,
          21,
          21,
          21,
          21,
          21,
          21,
          21,
          21,
          21,
          21,
          21,
          21,
          21,
          21,
          21,
          21,
          21
         ],
         "y": [
          85,
          84,
          83,
          82,
          81,
          80,
          79,
          78,
          77,
          76,
          75,
          74,
          73,
          72,
          71,
          70,
          69,
          68,
          67,
          66,
          65,
          64,
          63,
          62,
          61,
          60,
          59,
          58,
          57,
          56,
          55,
          54,
          53,
          52,
          51,
          50,
          49,
          48,
          47,
          46,
          45,
          44,
          43,
          42,
          41,
          40,
          39,
          38,
          37,
          36,
          35
         ]
        },
        {
         "marker": {
          "color": "rgb(160,160,160)",
          "line": {
           "color": "rgb(160,160,160)",
           "width": 3
          },
          "size": 4,
          "symbol": "line-ew"
         },
         "mode": "markers",
         "name": "premise : E-1",
         "type": "scatter",
         "x": [],
         "y": []
        },
        {
         "marker": {
          "color": "rgb(160,160,160)",
          "line": {
           "color": "rgb(160,160,160)",
           "width": 3
          },
          "size": 0.001,
          "symbol": "line-ew"
         },
         "mode": "markers",
         "name": "premise : E-1",
         "type": "scatter",
         "x": [
          21,
          21,
          21,
          21,
          21
         ],
         "y": [
          34,
          33,
          32,
          31,
          30
         ]
        },
        {
         "marker": {
          "color": "rgb(160,160,160)",
          "line": {
           "color": "rgb(160,160,160)",
           "width": 3
          },
          "size": 4,
          "symbol": "line-ew"
         },
         "mode": "markers",
         "name": "premise : E-1",
         "type": "scatter",
         "x": [
          21,
          21,
          21,
          21,
          21,
          21,
          21,
          21,
          21,
          21,
          21,
          21,
          21,
          21,
          21,
          21,
          21,
          21,
          21,
          21,
          21,
          21,
          21,
          21,
          21,
          21,
          21,
          21,
          21
         ],
         "y": [
          29,
          28,
          27,
          26,
          25,
          24,
          23,
          22,
          21,
          20,
          19,
          18,
          17,
          16,
          15,
          14,
          13,
          12,
          11,
          10,
          9,
          8,
          7,
          6,
          5,
          4,
          3,
          2,
          1
         ]
        },
        {
         "marker": {
          "color": "rgb(160,160,160)",
          "line": {
           "color": "rgb(160,160,160)",
           "width": 3
          },
          "size": 16,
          "symbol": "line-ew"
         },
         "mode": "markers",
         "name": "premise : E-1",
         "type": "scatter",
         "x": [],
         "y": []
        },
        {
         "marker": {
          "color": "rgb(160,160,160)",
          "line": {
           "color": "rgb(160,160,160)",
           "width": 3
          },
          "size": 44,
          "symbol": "line-ew"
         },
         "mode": "markers",
         "name": "premise : E-1",
         "type": "scatter",
         "x": [],
         "y": []
        },
        {
         "marker": {
          "color": "rgb(160,160,160)",
          "line": {
           "color": "rgb(160,160,160)",
           "width": 3
          },
          "size": 0.5,
          "symbol": "line-ew"
         },
         "mode": "markers",
         "name": "premise : E-1",
         "type": "scatter",
         "x": [],
         "y": []
        },
        {
         "marker": {
          "color": "rgb(160,160,160)",
          "line": {
           "color": "rgb(160,160,160)",
           "width": 3
          },
          "size": 4,
          "symbol": "line-ew"
         },
         "mode": "markers",
         "name": "premise : E-1",
         "type": "scatter",
         "x": [],
         "y": []
        },
        {
         "marker": {
          "color": "rgb(160,160,160)",
          "line": {
           "color": "rgb(160,160,160)",
           "width": 3
          },
          "size": 16,
          "symbol": "line-ew"
         },
         "mode": "markers",
         "name": "premise : E-1",
         "type": "scatter",
         "x": [],
         "y": []
        },
        {
         "marker": {
          "color": "rgb(160,160,160)",
          "line": {
           "color": "rgb(160,160,160)",
           "width": 3
          },
          "size": 44,
          "symbol": "line-ew"
         },
         "mode": "markers",
         "name": "premise : E-1",
         "type": "scatter",
         "x": [],
         "y": []
        },
        {
         "marker": {
          "color": "black",
          "line": {
           "color": "black",
           "width": 3
          },
          "size": 0.001,
          "symbol": "line-ew"
         },
         "mode": "markers",
         "name": "premise : E-1",
         "type": "scatter",
         "x": [
          108
         ],
         "y": [
          0
         ]
        },
        {
         "marker": {
          "color": "red",
          "line": {
           "color": "red"
          },
          "symbol": "circle"
         },
         "mode": "markers",
         "name": "premise : E-1",
         "type": "scatter",
         "x": [
          21
         ],
         "y": [
          34
         ]
        },
        {
         "marker": {
          "color": "black",
          "line": {
           "color": "black"
          },
          "symbol": "circle"
         },
         "mode": "markers",
         "name": "premise : E-1",
         "type": "scatter",
         "x": [
          21
         ],
         "y": [
          86
         ]
        },
        {
         "marker": {
          "color": "rgb(160,160,160)",
          "line": {
           "color": "rgb(160,160,160)",
           "width": 3
          },
          "size": 0.001,
          "symbol": "line-ew"
         },
         "mode": "markers",
         "name": "premise : E-3",
         "type": "scatter",
         "x": [
          33,
          33,
          33,
          33,
          33,
          33,
          33,
          33,
          33,
          33,
          33,
          33,
          33,
          33,
          33,
          33,
          33,
          33,
          33,
          33,
          33,
          33,
          33,
          33,
          33,
          33,
          33,
          33,
          33,
          33,
          33,
          33,
          33,
          33,
          33,
          33,
          33,
          33,
          33,
          33,
          33,
          33,
          33,
          33,
          33,
          33,
          33,
          33,
          33,
          33,
          33
         ],
         "y": [
          91,
          90,
          89,
          88,
          87,
          86,
          85,
          84,
          83,
          82,
          81,
          80,
          79,
          78,
          77,
          76,
          75,
          74,
          73,
          72,
          71,
          70,
          69,
          68,
          67,
          66,
          65,
          64,
          63,
          62,
          61,
          60,
          59,
          58,
          57,
          56,
          55,
          54,
          53,
          52,
          51,
          50,
          49,
          48,
          47,
          46,
          45,
          44,
          43,
          42,
          41
         ]
        },
        {
         "marker": {
          "color": "rgb(160,160,160)",
          "line": {
           "color": "rgb(160,160,160)",
           "width": 3
          },
          "size": 4,
          "symbol": "line-ew"
         },
         "mode": "markers",
         "name": "premise : E-3",
         "type": "scatter",
         "x": [],
         "y": []
        },
        {
         "marker": {
          "color": "rgb(160,160,160)",
          "line": {
           "color": "rgb(160,160,160)",
           "width": 3
          },
          "size": 0.001,
          "symbol": "line-ew"
         },
         "mode": "markers",
         "name": "premise : E-3",
         "type": "scatter",
         "x": [
          33,
          33,
          33,
          33,
          33,
          33,
          33,
          33,
          33,
          33,
          33,
          33,
          33,
          33,
          33,
          33,
          33,
          33,
          33,
          33,
          33,
          33,
          33,
          33,
          33
         ],
         "y": [
          40,
          39,
          38,
          37,
          36,
          35,
          34,
          33,
          32,
          31,
          30,
          29,
          28,
          27,
          26,
          25,
          24,
          23,
          22,
          21,
          20,
          19,
          18,
          17,
          16
         ]
        },
        {
         "marker": {
          "color": "rgb(160,160,160)",
          "line": {
           "color": "rgb(160,160,160)",
           "width": 3
          },
          "size": 4,
          "symbol": "line-ew"
         },
         "mode": "markers",
         "name": "premise : E-3",
         "type": "scatter",
         "x": [
          33,
          33,
          33,
          33
         ],
         "y": [
          15,
          14,
          13,
          12
         ]
        },
        {
         "marker": {
          "color": "rgb(160,160,160)",
          "line": {
           "color": "rgb(160,160,160)",
           "width": 3
          },
          "size": 16,
          "symbol": "line-ew"
         },
         "mode": "markers",
         "name": "premise : E-3",
         "type": "scatter",
         "x": [],
         "y": []
        },
        {
         "marker": {
          "color": "rgb(160,160,160)",
          "line": {
           "color": "rgb(160,160,160)",
           "width": 3
          },
          "size": 44,
          "symbol": "line-ew"
         },
         "mode": "markers",
         "name": "premise : E-3",
         "type": "scatter",
         "x": [],
         "y": []
        },
        {
         "marker": {
          "color": "rgb(160,160,160)",
          "line": {
           "color": "rgb(160,160,160)",
           "width": 3
          },
          "size": 0.5,
          "symbol": "line-ew"
         },
         "mode": "markers",
         "name": "premise : E-3",
         "type": "scatter",
         "x": [],
         "y": []
        },
        {
         "marker": {
          "color": "rgb(160,160,160)",
          "line": {
           "color": "rgb(160,160,160)",
           "width": 3
          },
          "size": 4,
          "symbol": "line-ew"
         },
         "mode": "markers",
         "name": "premise : E-3",
         "type": "scatter",
         "x": [
          33,
          33,
          33
         ],
         "y": [
          5,
          4,
          3
         ]
        },
        {
         "marker": {
          "color": "rgb(160,160,160)",
          "line": {
           "color": "rgb(160,160,160)",
           "width": 3
          },
          "size": 16,
          "symbol": "line-ew"
         },
         "mode": "markers",
         "name": "premise : E-3",
         "type": "scatter",
         "x": [],
         "y": []
        },
        {
         "marker": {
          "color": "rgb(160,160,160)",
          "line": {
           "color": "rgb(160,160,160)",
           "width": 3
          },
          "size": 44,
          "symbol": "line-ew"
         },
         "mode": "markers",
         "name": "premise : E-3",
         "type": "scatter",
         "x": [
          33,
          33,
          33,
          33,
          33,
          33,
          33,
          33
         ],
         "y": [
          11,
          10,
          9,
          8,
          7,
          6,
          2,
          1
         ]
        },
        {
         "marker": {
          "color": "black",
          "line": {
           "color": "black",
           "width": 3
          },
          "size": 0.001,
          "symbol": "line-ew"
         },
         "mode": "markers",
         "name": "premise : E-3",
         "type": "scatter",
         "x": [
          108
         ],
         "y": [
          0
         ]
        },
        {
         "marker": {
          "color": "red",
          "line": {
           "color": "red"
          },
          "symbol": "circle"
         },
         "mode": "markers",
         "name": "premise : E-3",
         "type": "scatter",
         "x": [
          33
         ],
         "y": [
          40
         ]
        },
        {
         "marker": {
          "color": "black",
          "line": {
           "color": "black"
          },
          "symbol": "circle"
         },
         "mode": "markers",
         "name": "premise : E-3",
         "type": "scatter",
         "x": [
          33
         ],
         "y": [
          92
         ]
        }
       ],
       "layout": {
        "annotations": [
         {
          "showarrow": false,
          "text": "MemL-Lin",
          "x": 9,
          "xanchor": "right",
          "xshift": 0,
          "y": 0.0,
          "yanchor": "top"
         },
         {
          "showarrow": false,
          "text": "MemL-Exp",
          "x": 21,
          "xanchor": "right",
          "xshift": 0,
          "y": 0.0,
          "yanchor": "top"
         },
         {
          "showarrow": false,
          "text": "MemL-Rnd",
          "x": 33,
          "xanchor": "right",
          "xshift": 0,
          "y": 0.0,
          "yanchor": "top"
         }
        ],
        "autosize": true,
        "font": {
         "family": "Courier New, monospace",
         "size": 24
        },
        "height": 1000,
        "shapes": [
         {
          "type": "rect",
          "x0": 12,
          "x1": 12,
          "xref": "x",
          "y0": 0,
          "y1": 1,
          "yref": "y domain"
         },
         {
          "type": "rect",
          "x0": 24,
          "x1": 24,
          "xref": "x",
          "y0": 0,
          "y1": 1,
          "yref": "y domain"
         },
         {
          "type": "rect",
          "x0": 36,
          "x1": 36,
          "xref": "x",
          "y0": 0,
          "y1": 1,
          "yref": "y domain"
         },
         {
          "type": "rect",
          "x0": 12,
          "x1": 12,
          "xref": "x",
          "y0": 0,
          "y1": 1,
          "yref": "y domain"
         },
         {
          "type": "rect",
          "x0": 24,
          "x1": 24,
          "xref": "x",
          "y0": 0,
          "y1": 1,
          "yref": "y domain"
         },
         {
          "type": "rect",
          "x0": 36,
          "x1": 36,
          "xref": "x",
          "y0": 0,
          "y1": 1,
          "yref": "y domain"
         },
         {
          "type": "rect",
          "x0": 12,
          "x1": 12,
          "xref": "x",
          "y0": 0,
          "y1": 1,
          "yref": "y domain"
         },
         {
          "type": "rect",
          "x0": 24,
          "x1": 24,
          "xref": "x",
          "y0": 0,
          "y1": 1,
          "yref": "y domain"
         },
         {
          "type": "rect",
          "x0": 36,
          "x1": 36,
          "xref": "x",
          "y0": 0,
          "y1": 1,
          "yref": "y domain"
         }
        ],
        "showlegend": false,
        "template": {
         "data": {
          "bar": [
           {
            "error_x": {
             "color": "#2a3f5f"
            },
            "error_y": {
             "color": "#2a3f5f"
            },
            "marker": {
             "line": {
              "color": "#E5ECF6",
              "width": 0.5
             },
             "pattern": {
              "fillmode": "overlay",
              "size": 10,
              "solidity": 0.2
             }
            },
            "type": "bar"
           }
          ],
          "barpolar": [
           {
            "marker": {
             "line": {
              "color": "#E5ECF6",
              "width": 0.5
             },
             "pattern": {
              "fillmode": "overlay",
              "size": 10,
              "solidity": 0.2
             }
            },
            "type": "barpolar"
           }
          ],
          "carpet": [
           {
            "aaxis": {
             "endlinecolor": "#2a3f5f",
             "gridcolor": "white",
             "linecolor": "white",
             "minorgridcolor": "white",
             "startlinecolor": "#2a3f5f"
            },
            "baxis": {
             "endlinecolor": "#2a3f5f",
             "gridcolor": "white",
             "linecolor": "white",
             "minorgridcolor": "white",
             "startlinecolor": "#2a3f5f"
            },
            "type": "carpet"
           }
          ],
          "choropleth": [
           {
            "colorbar": {
             "outlinewidth": 0,
             "ticks": ""
            },
            "type": "choropleth"
           }
          ],
          "contour": [
           {
            "colorbar": {
             "outlinewidth": 0,
             "ticks": ""
            },
            "colorscale": [
             [
              0.0,
              "#0d0887"
             ],
             [
              0.1111111111111111,
              "#46039f"
             ],
             [
              0.2222222222222222,
              "#7201a8"
             ],
             [
              0.3333333333333333,
              "#9c179e"
             ],
             [
              0.4444444444444444,
              "#bd3786"
             ],
             [
              0.5555555555555556,
              "#d8576b"
             ],
             [
              0.6666666666666666,
              "#ed7953"
             ],
             [
              0.7777777777777778,
              "#fb9f3a"
             ],
             [
              0.8888888888888888,
              "#fdca26"
             ],
             [
              1.0,
              "#f0f921"
             ]
            ],
            "type": "contour"
           }
          ],
          "contourcarpet": [
           {
            "colorbar": {
             "outlinewidth": 0,
             "ticks": ""
            },
            "type": "contourcarpet"
           }
          ],
          "heatmap": [
           {
            "colorbar": {
             "outlinewidth": 0,
             "ticks": ""
            },
            "colorscale": [
             [
              0.0,
              "#0d0887"
             ],
             [
              0.1111111111111111,
              "#46039f"
             ],
             [
              0.2222222222222222,
              "#7201a8"
             ],
             [
              0.3333333333333333,
              "#9c179e"
             ],
             [
              0.4444444444444444,
              "#bd3786"
             ],
             [
              0.5555555555555556,
              "#d8576b"
             ],
             [
              0.6666666666666666,
              "#ed7953"
             ],
             [
              0.7777777777777778,
              "#fb9f3a"
             ],
             [
              0.8888888888888888,
              "#fdca26"
             ],
             [
              1.0,
              "#f0f921"
             ]
            ],
            "type": "heatmap"
           }
          ],
          "heatmapgl": [
           {
            "colorbar": {
             "outlinewidth": 0,
             "ticks": ""
            },
            "colorscale": [
             [
              0.0,
              "#0d0887"
             ],
             [
              0.1111111111111111,
              "#46039f"
             ],
             [
              0.2222222222222222,
              "#7201a8"
             ],
             [
              0.3333333333333333,
              "#9c179e"
             ],
             [
              0.4444444444444444,
              "#bd3786"
             ],
             [
              0.5555555555555556,
              "#d8576b"
             ],
             [
              0.6666666666666666,
              "#ed7953"
             ],
             [
              0.7777777777777778,
              "#fb9f3a"
             ],
             [
              0.8888888888888888,
              "#fdca26"
             ],
             [
              1.0,
              "#f0f921"
             ]
            ],
            "type": "heatmapgl"
           }
          ],
          "histogram": [
           {
            "marker": {
             "pattern": {
              "fillmode": "overlay",
              "size": 10,
              "solidity": 0.2
             }
            },
            "type": "histogram"
           }
          ],
          "histogram2d": [
           {
            "colorbar": {
             "outlinewidth": 0,
             "ticks": ""
            },
            "colorscale": [
             [
              0.0,
              "#0d0887"
             ],
             [
              0.1111111111111111,
              "#46039f"
             ],
             [
              0.2222222222222222,
              "#7201a8"
             ],
             [
              0.3333333333333333,
              "#9c179e"
             ],
             [
              0.4444444444444444,
              "#bd3786"
             ],
             [
              0.5555555555555556,
              "#d8576b"
             ],
             [
              0.6666666666666666,
              "#ed7953"
             ],
             [
              0.7777777777777778,
              "#fb9f3a"
             ],
             [
              0.8888888888888888,
              "#fdca26"
             ],
             [
              1.0,
              "#f0f921"
             ]
            ],
            "type": "histogram2d"
           }
          ],
          "histogram2dcontour": [
           {
            "colorbar": {
             "outlinewidth": 0,
             "ticks": ""
            },
            "colorscale": [
             [
              0.0,
              "#0d0887"
             ],
             [
              0.1111111111111111,
              "#46039f"
             ],
             [
              0.2222222222222222,
              "#7201a8"
             ],
             [
              0.3333333333333333,
              "#9c179e"
             ],
             [
              0.4444444444444444,
              "#bd3786"
             ],
             [
              0.5555555555555556,
              "#d8576b"
             ],
             [
              0.6666666666666666,
              "#ed7953"
             ],
             [
              0.7777777777777778,
              "#fb9f3a"
             ],
             [
              0.8888888888888888,
              "#fdca26"
             ],
             [
              1.0,
              "#f0f921"
             ]
            ],
            "type": "histogram2dcontour"
           }
          ],
          "mesh3d": [
           {
            "colorbar": {
             "outlinewidth": 0,
             "ticks": ""
            },
            "type": "mesh3d"
           }
          ],
          "parcoords": [
           {
            "line": {
             "colorbar": {
              "outlinewidth": 0,
              "ticks": ""
             }
            },
            "type": "parcoords"
           }
          ],
          "pie": [
           {
            "automargin": true,
            "type": "pie"
           }
          ],
          "scatter": [
           {
            "marker": {
             "colorbar": {
              "outlinewidth": 0,
              "ticks": ""
             }
            },
            "type": "scatter"
           }
          ],
          "scatter3d": [
           {
            "line": {
             "colorbar": {
              "outlinewidth": 0,
              "ticks": ""
             }
            },
            "marker": {
             "colorbar": {
              "outlinewidth": 0,
              "ticks": ""
             }
            },
            "type": "scatter3d"
           }
          ],
          "scattercarpet": [
           {
            "marker": {
             "colorbar": {
              "outlinewidth": 0,
              "ticks": ""
             }
            },
            "type": "scattercarpet"
           }
          ],
          "scattergeo": [
           {
            "marker": {
             "colorbar": {
              "outlinewidth": 0,
              "ticks": ""
             }
            },
            "type": "scattergeo"
           }
          ],
          "scattergl": [
           {
            "marker": {
             "colorbar": {
              "outlinewidth": 0,
              "ticks": ""
             }
            },
            "type": "scattergl"
           }
          ],
          "scattermapbox": [
           {
            "marker": {
             "colorbar": {
              "outlinewidth": 0,
              "ticks": ""
             }
            },
            "type": "scattermapbox"
           }
          ],
          "scatterpolar": [
           {
            "marker": {
             "colorbar": {
              "outlinewidth": 0,
              "ticks": ""
             }
            },
            "type": "scatterpolar"
           }
          ],
          "scatterpolargl": [
           {
            "marker": {
             "colorbar": {
              "outlinewidth": 0,
              "ticks": ""
             }
            },
            "type": "scatterpolargl"
           }
          ],
          "scatterternary": [
           {
            "marker": {
             "colorbar": {
              "outlinewidth": 0,
              "ticks": ""
             }
            },
            "type": "scatterternary"
           }
          ],
          "surface": [
           {
            "colorbar": {
             "outlinewidth": 0,
             "ticks": ""
            },
            "colorscale": [
             [
              0.0,
              "#0d0887"
             ],
             [
              0.1111111111111111,
              "#46039f"
             ],
             [
              0.2222222222222222,
              "#7201a8"
             ],
             [
              0.3333333333333333,
              "#9c179e"
             ],
             [
              0.4444444444444444,
              "#bd3786"
             ],
             [
              0.5555555555555556,
              "#d8576b"
             ],
             [
              0.6666666666666666,
              "#ed7953"
             ],
             [
              0.7777777777777778,
              "#fb9f3a"
             ],
             [
              0.8888888888888888,
              "#fdca26"
             ],
             [
              1.0,
              "#f0f921"
             ]
            ],
            "type": "surface"
           }
          ],
          "table": [
           {
            "cells": {
             "fill": {
              "color": "#EBF0F8"
             },
             "line": {
              "color": "white"
             }
            },
            "header": {
             "fill": {
              "color": "#C8D4E3"
             },
             "line": {
              "color": "white"
             }
            },
            "type": "table"
           }
          ]
         },
         "layout": {
          "annotationdefaults": {
           "arrowcolor": "#2a3f5f",
           "arrowhead": 0,
           "arrowwidth": 1
          },
          "autotypenumbers": "strict",
          "coloraxis": {
           "colorbar": {
            "outlinewidth": 0,
            "ticks": ""
           }
          },
          "colorscale": {
           "diverging": [
            [
             0,
             "#8e0152"
            ],
            [
             0.1,
             "#c51b7d"
            ],
            [
             0.2,
             "#de77ae"
            ],
            [
             0.3,
             "#f1b6da"
            ],
            [
             0.4,
             "#fde0ef"
            ],
            [
             0.5,
             "#f7f7f7"
            ],
            [
             0.6,
             "#e6f5d0"
            ],
            [
             0.7,
             "#b8e186"
            ],
            [
             0.8,
             "#7fbc41"
            ],
            [
             0.9,
             "#4d9221"
            ],
            [
             1,
             "#276419"
            ]
           ],
           "sequential": [
            [
             0.0,
             "#0d0887"
            ],
            [
             0.1111111111111111,
             "#46039f"
            ],
            [
             0.2222222222222222,
             "#7201a8"
            ],
            [
             0.3333333333333333,
             "#9c179e"
            ],
            [
             0.4444444444444444,
             "#bd3786"
            ],
            [
             0.5555555555555556,
             "#d8576b"
            ],
            [
             0.6666666666666666,
             "#ed7953"
            ],
            [
             0.7777777777777778,
             "#fb9f3a"
            ],
            [
             0.8888888888888888,
             "#fdca26"
            ],
            [
             1.0,
             "#f0f921"
            ]
           ],
           "sequentialminus": [
            [
             0.0,
             "#0d0887"
            ],
            [
             0.1111111111111111,
             "#46039f"
            ],
            [
             0.2222222222222222,
             "#7201a8"
            ],
            [
             0.3333333333333333,
             "#9c179e"
            ],
            [
             0.4444444444444444,
             "#bd3786"
            ],
            [
             0.5555555555555556,
             "#d8576b"
            ],
            [
             0.6666666666666666,
             "#ed7953"
            ],
            [
             0.7777777777777778,
             "#fb9f3a"
            ],
            [
             0.8888888888888888,
             "#fdca26"
            ],
            [
             1.0,
             "#f0f921"
            ]
           ]
          },
          "colorway": [
           "#636efa",
           "#EF553B",
           "#00cc96",
           "#ab63fa",
           "#FFA15A",
           "#19d3f3",
           "#FF6692",
           "#B6E880",
           "#FF97FF",
           "#FECB52"
          ],
          "font": {
           "color": "#2a3f5f"
          },
          "geo": {
           "bgcolor": "white",
           "lakecolor": "white",
           "landcolor": "#E5ECF6",
           "showlakes": true,
           "showland": true,
           "subunitcolor": "white"
          },
          "hoverlabel": {
           "align": "left"
          },
          "hovermode": "closest",
          "mapbox": {
           "style": "light"
          },
          "paper_bgcolor": "white",
          "plot_bgcolor": "#E5ECF6",
          "polar": {
           "angularaxis": {
            "gridcolor": "white",
            "linecolor": "white",
            "ticks": ""
           },
           "bgcolor": "#E5ECF6",
           "radialaxis": {
            "gridcolor": "white",
            "linecolor": "white",
            "ticks": ""
           }
          },
          "scene": {
           "xaxis": {
            "backgroundcolor": "#E5ECF6",
            "gridcolor": "white",
            "gridwidth": 2,
            "linecolor": "white",
            "showbackground": true,
            "ticks": "",
            "zerolinecolor": "white"
           },
           "yaxis": {
            "backgroundcolor": "#E5ECF6",
            "gridcolor": "white",
            "gridwidth": 2,
            "linecolor": "white",
            "showbackground": true,
            "ticks": "",
            "zerolinecolor": "white"
           },
           "zaxis": {
            "backgroundcolor": "#E5ECF6",
            "gridcolor": "white",
            "gridwidth": 2,
            "linecolor": "white",
            "showbackground": true,
            "ticks": "",
            "zerolinecolor": "white"
           }
          },
          "shapedefaults": {
           "line": {
            "color": "#2a3f5f"
           }
          },
          "ternary": {
           "aaxis": {
            "gridcolor": "white",
            "linecolor": "white",
            "ticks": ""
           },
           "baxis": {
            "gridcolor": "white",
            "linecolor": "white",
            "ticks": ""
           },
           "bgcolor": "#E5ECF6",
           "caxis": {
            "gridcolor": "white",
            "linecolor": "white",
            "ticks": ""
           }
          },
          "title": {
           "x": 0.05
          },
          "xaxis": {
           "automargin": true,
           "gridcolor": "white",
           "linecolor": "white",
           "ticks": "",
           "title": {
            "standoff": 15
           },
           "zerolinecolor": "white",
           "zerolinewidth": 2
          },
          "yaxis": {
           "automargin": true,
           "gridcolor": "white",
           "linecolor": "white",
           "ticks": "",
           "title": {
            "standoff": 15
           },
           "zerolinecolor": "white",
           "zerolinewidth": 2
          }
         }
        },
        "title": {
         "text": ""
        },
        "width": 3000,
        "xaxis": {
         "showticklabels": false,
         "title": {
          "text": ""
         }
        },
        "yaxis": {
         "title": {
          "text": "Minutes"
         }
        }
       }
      }
     },
     "metadata": {},
     "output_type": "display_data"
    }
   ],
   "source": [
    "fig = go.Figure()\n",
    "\n",
    "for project_index, project in enumerate(experiments):\n",
    "\n",
    "    if project_index not in projects_set_to_draw:\n",
    "        continue\n",
    "\n",
    "    project_name = project[\"project\"]\n",
    "    project_folder = project[\"folder\"]\n",
    "    project_exp_codes = project[\"exp_codes\"]\n",
    "\n",
    "    exp_codes_to_draw = []\n",
    "    for exp_index, exp_code in enumerate(project_exp_codes):\n",
    "\n",
    "        if exp_code not in experiments_set_to_draw:\n",
    "            continue\n",
    "\n",
    "        exp_codes_to_draw.append(exp_code)\n",
    "\n",
    "        x_values = []\n",
    "        y_values = []\n",
    "        bar_sections = [\n",
    "            [[], []],\n",
    "            [[], []],\n",
    "            [[], []],\n",
    "            [[], []],\n",
    "            [[], []],\n",
    "            [[], []],\n",
    "            [[], []],\n",
    "            [[], []],\n",
    "            [[], []],\n",
    "            [[], []]\n",
    "        ]\n",
    "\n",
    "        period_before_injection = periods_before_injection[exp_index]\n",
    "        fault_inj_minute = experiments[project_index][\"fault_inj_minutes\"][exp_index]\n",
    "        failure_minute = experiments[project_index][\"failure_minutes\"][exp_index]\n",
    "\n",
    "        x_axis_value = (len(exp_codes_to_draw) - 1) * group_size + (project_index + 1) * inter_bars_margin\n",
    "\n",
    "        # Load consolidated file to the matrix\n",
    "        reader = csv.reader(open(consolidated_file_path_pattern.format(project_folder=project_folder, project_name=project_name, fault_id=exp_code), 'r'))\n",
    "        header = next(reader, None)\n",
    "        matrix = []\n",
    "        for row in reader:\n",
    "            matrix.append(row)\n",
    "\n",
    "        # The period [fault_injection - steady period before injection, failure)\n",
    "        target_period_len = len(matrix) - 1\n",
    "        if (int(period_before_injection) + int(failure_minute) - int(fault_inj_minute)) != target_period_len:\n",
    "            print(project_name, exp_code, period_before_injection, failure_minute, fault_inj_minute, target_period_len)\n",
    "            exit(\"target period is not correct\")\n",
    "\n",
    "        # point before start of the target period\n",
    "        start_minute_for_point_on_graph = target_period_len + 1\n",
    "        fault_inj_minute_for_point_on_graph = target_period_len - period_before_injection\n",
    "\n",
    "        # Collect prediction types to the bar sections\n",
    "        for row_index in range(target_period_len):\n",
    "            current_prediction_type = int(matrix[row_index][7])\n",
    "\n",
    "            graph_row_index = target_period_len - row_index\n",
    "\n",
    "            bar_sections[current_prediction_type][0].append(x_axis_value)\n",
    "            bar_sections[current_prediction_type][1].append(graph_row_index)\n",
    "\n",
    "        for bar_section_index, bar_section in enumerate(bar_sections):\n",
    "            size = dash_sizes_by_prediction_type[bar_section_index]\n",
    "            color = colors_by_project[project_index]\n",
    "            Xs = bar_section[0]\n",
    "            Ys = bar_section[1]\n",
    "            name = project_name + \" : E-\" + str(exp_code)\n",
    "\n",
    "            fig.add_trace(go.Scatter(\n",
    "                x=Xs,\n",
    "                y=Ys,\n",
    "                marker=dict(color=color, size=size),\n",
    "                marker_symbol=\"line-ew\",\n",
    "                marker_line_width=marker_line_width,\n",
    "                marker_line_color=color,\n",
    "                mode=\"markers\",\n",
    "                name=name\n",
    "            ))\n",
    "\n",
    "        if exp_index < len(project_exp_codes) - 1:\n",
    "            fig.add_vrect(x0=group_size * len(exp_codes_to_draw), x1=group_size * len(exp_codes_to_draw) )\n",
    "\n",
    "        Xs = [group_size * 9]\n",
    "        Ys = [0]\n",
    "\n",
    "        fig.add_trace(go.Scatter(\n",
    "            x=Xs,\n",
    "            y=Ys,\n",
    "            marker=dict(color=\"black\", size=0.001),\n",
    "            marker_symbol=\"line-ew\",\n",
    "            marker_line_width=marker_line_width,\n",
    "            marker_line_color=\"black\",\n",
    "            mode=\"markers\",\n",
    "            name=name\n",
    "        ))\n",
    "\n",
    "        fig.add_trace(go.Scatter(\n",
    "            x=[x_axis_value],\n",
    "            y=[fault_inj_minute_for_point_on_graph],\n",
    "            marker=dict(color=\"red\"),\n",
    "            marker_symbol=\"circle\",\n",
    "            marker_line_color=\"red\",\n",
    "            mode=\"markers\",\n",
    "            name=name\n",
    "        ))\n",
    "\n",
    "        fig.add_trace(go.Scatter(\n",
    "            x=[x_axis_value],\n",
    "            y=[start_minute_for_point_on_graph],\n",
    "            marker=dict(color=\"black\"),\n",
    "            marker_symbol=\"circle\",\n",
    "            marker_line_color=\"black\",\n",
    "            mode=\"markers\",\n",
    "            name=name\n",
    "        ))\n",
    "\n",
    "fig.update_layout(\n",
    "    autosize=True,\n",
    "    width=graph_width,\n",
    "    # height=graph_height * 1.6,\n",
    "    # height=graph_height * 0.8,\n",
    "    height=graph_height,\n",
    "    title=\"\",\n",
    "    xaxis_title=\"\",\n",
    "    yaxis_title=\"Minutes\",\n",
    "    font=dict(\n",
    "        family=\"Courier New, monospace\",\n",
    "        size=24),\n",
    "    annotations=[go.layout.Annotation(\n",
    "        showarrow=False,\n",
    "        text=get_fault_name_by_exp_code(exp_code),\n",
    "        xanchor='right',\n",
    "        x=group_size * exp_index + x_shift,\n",
    "        xshift=0,\n",
    "        yanchor='top',\n",
    "        y=0.0\n",
    "        # bgcolor=\"#0000FF\",\n",
    "        # font=dict(\n",
    "        # family=\"Courier New, monospace\",\n",
    "        # size=24,\n",
    "        # color=\"#0000FF\"\n",
    "        # )\n",
    "    ) for exp_index, exp_code in enumerate(exp_codes_to_draw)]\n",
    ")\n",
    "\n",
    "fig.update_xaxes(showticklabels=False)\n",
    "fig.layout.showlegend = False\n",
    "\n",
    "fig.show()"
   ],
   "metadata": {
    "collapsed": false,
    "pycharm": {
     "name": "#%%\n"
    }
   }
  }
 ],
 "metadata": {
  "kernelspec": {
   "name": "python37364bitanaconda3virtualenvc749fcb9821a4dcd89a1b5d9d1bf54c5",
   "language": "python",
   "display_name": "Python 3.7.3 64-bit ('anaconda3': virtualenv)"
  },
  "language_info": {
   "codemirror_mode": {
    "name": "ipython",
    "version": 2
   },
   "file_extension": ".py",
   "mimetype": "text/x-python",
   "name": "python",
   "nbconvert_exporter": "python",
   "pygments_lexer": "ipython2",
   "version": "2.7.6"
  }
 },
 "nbformat": 4,
 "nbformat_minor": 0
}